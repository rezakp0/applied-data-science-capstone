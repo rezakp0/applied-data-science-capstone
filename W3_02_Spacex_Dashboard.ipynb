{
 "cells": [
  {
   "cell_type": "markdown",
   "id": "3dcdc433-f6d8-4a42-80b8-aceebfb59617",
   "metadata": {},
   "source": [
    "# **Build a Dashboard Application with Plotly Dash**\n",
    "\n",
    "In this lab, you will be building a Plotly Dash application for users to perform interactive visual analytics on SpaceX launch data in\n",
    "real-time.\n",
    "\n",
    "This dashboard application contains input components such as a dropdown list and a range slider to\n",
    "interact with a pie chart and a scatter point chart. You will be guided to build this dashboard application via the following tasks:\n",
    "\n",
    "+ TASK 1: Add a Launch Site Drop-down Input Component\n",
    "+ TASK 2: Add a callback function to render `success-pie-chart` based on selected site dropdown\n",
    "+ TASK 3: Add a Range Slider to Select Payload\n",
    "+ TASK 4: Add a callback function to render the `success-payload-scatter-chart` scatter plot\n",
    "\n",
    "After visual analysis using the dashboard, you should be able to obtain some insights to answer the following five questions:\n",
    "\n",
    "1. Which site has the largest successful launches?\n",
    "2. Which site has the highest launch success rate?\n",
    "3. Which payload range(s) has the highest launch success rate?\n",
    "4. Which payload range(s) has the lowest launch success rate?\n",
    "5. Which F9 Booster version (`v1.0`, `v1.1`, `FT`, `B4`, `B5`, etc.) has the highest\n",
    "launch success rate?\n",
    "\n",
    "**Estimated time needed: 90 minutes**"
   ]
  },
  {
   "cell_type": "markdown",
   "id": "59ba39b4-1a49-4227-9641-a5732234e57c",
   "metadata": {},
   "source": [
    "### **Download a skeleton dashboard application and dataset**\n",
    "First, let’s get the SpaceX Launch dataset for this lab:\n",
    "\n",
    "Run the following `wget` command line to download dataset as `spacex_launch_dash.csv`"
   ]
  },
  {
   "cell_type": "code",
   "execution_count": 1,
   "id": "df9fad33-ac6d-46b9-ace9-684a6c05b7b5",
   "metadata": {},
   "outputs": [],
   "source": [
    "import wget"
   ]
  },
  {
   "cell_type": "code",
   "execution_count": 9,
   "id": "3b9c3762-03a7-41b2-ac36-7fc1827e752c",
   "metadata": {},
   "outputs": [
    {
     "name": "stdout",
     "output_type": "stream",
     "text": [
      "100% [............................................................] 2476 / 2476"
     ]
    },
    {
     "data": {
      "text/plain": [
       "'spacex_launch_dash.csv'"
      ]
     },
     "execution_count": 9,
     "metadata": {},
     "output_type": "execute_result"
    }
   ],
   "source": [
    "wget.download(\"https://cf-courses-data.s3.us.cloud-object-storage.appdomain.cloud/IBM-DS0321EN-SkillsNetwork/datasets/spacex_launch_dash.csv\")"
   ]
  },
  {
   "cell_type": "markdown",
   "id": "23c5470c-0230-4746-bd7a-c6ef881d306a",
   "metadata": {},
   "source": [
    "Download a skeleton Dash app to be completed in this lab:"
   ]
  },
  {
   "cell_type": "code",
   "execution_count": 10,
   "id": "4b8bc38c-5fd9-4a1f-83f0-54bc449508b8",
   "metadata": {},
   "outputs": [
    {
     "name": "stdout",
     "output_type": "stream",
     "text": [
      "100% [............................................................] 2110 / 2110"
     ]
    },
    {
     "data": {
      "text/plain": [
       "'spacex_dash_app.py'"
      ]
     },
     "execution_count": 10,
     "metadata": {},
     "output_type": "execute_result"
    }
   ],
   "source": [
    "wget.download(\"https://cf-courses-data.s3.us.cloud-object-storage.appdomain.cloud/IBM-DS0321EN-SkillsNetwork/labs/module_3/spacex_dash_app.py\")"
   ]
  },
  {
   "cell_type": "markdown",
   "id": "53415a76-d17f-405b-be7b-bb6957396f6e",
   "metadata": {},
   "source": [
    "Then load the skeleton app into the JupyterLab using the %load magic code."
   ]
  },
  {
   "cell_type": "markdown",
   "id": "27f73762-7975-4b7a-adf1-204cbfbbec75",
   "metadata": {},
   "source": [
    "### **TASK 1: Add a Launch Site Drop-down Input Component**\n",
    "We have four different launch sites and we would like to first see which one has the largest success count. Then,\n",
    "we would like to select one specific site and check its detailed success rate (class=0 vs. class=1).\n",
    "\n",
    "As such, we will need a dropdown menu to let us select different launch sites.\n",
    "\n",
    "Find and complete a commented `dcc.Dropdown(id='site-dropdown',...)` input with following attributes:\n",
    "+ `id` attribute with value `site-dropdown`\n",
    "+ `options` attribute is a list of dict-like option objects (with `label` and `value` attributes). You can set the `label` and `value` all to be the launch site names in the `spacex_df` and you need to include the default `All` option. e.g."
   ]
  },
  {
   "cell_type": "code",
   "execution_count": 16,
   "id": "bc19981c-24e3-4b05-bfa6-cb72e43a2be9",
   "metadata": {},
   "outputs": [],
   "source": [
    "# options=[{'label': 'All Sites', 'value': 'ALL'},{'label': 'site1', 'value': 'site1'}, ...]"
   ]
  },
  {
   "cell_type": "markdown",
   "id": "ec90cbed-601b-464b-ae0a-29bc5cfa958a",
   "metadata": {},
   "source": [
    "+ `value` attribute with default dropdown value to be `ALL` meaning all sites are selected\n",
    "+ `placeholder` attribute to show a text description about this input area, such as `Select a Launch Site here`\n",
    "+ `searchable` attribute to be `True` so we can enter keywords to search launch sites\n",
    "\n",
    "Here is an example of `dcc.Dropdown`:"
   ]
  },
  {
   "cell_type": "code",
   "execution_count": null,
   "id": "df198945-83c0-434a-9d5f-6f7264e175c6",
   "metadata": {},
   "outputs": [],
   "source": [
    "# dcc.Dropdown(id='id',\n",
    "#             options=[\n",
    "#                 {'label': 'All Sites', 'value': 'ALL'},\n",
    "#                 {'label': 'site1', 'value': 'site1'},\n",
    "#             ],\n",
    "#             value='ALL',\n",
    "#             placeholder=\"place holder here\",\n",
    "#             searchable=True\n",
    "#             ),"
   ]
  },
  {
   "cell_type": "markdown",
   "id": "dc1a7d5d-5d2c-4b83-95a6-53bc141b2fe1",
   "metadata": {},
   "source": [
    "### **TASK 2: Add a callback function to render `success-pie-chart` based on selected site dropdown**\n",
    "The general idea of this callback function is to get the selected launch site from `site-dropdown` and render a pie chart visualizing launch success counts.\n",
    "\n",
    "Dash callback function is a type of Python function which will be automatically called by\n",
    "Dash whenever receiving an input component updates, such as a click or dropdown selecting event.\n",
    "\n",
    "Let’s add a callback function including the following application logic:\n",
    "\n",
    "+ Input is set to be the `site-dropdown` dropdown, i.e.\\\n",
    "  `Input(component_id='site-dropdown', component_property='value')`\n",
    "+ Output to be the graph with id `success-pie-chart`, i.e.,\\\n",
    "  `Output(component_id='success-pie-chart', component_property='figure')`\n",
    "+ An `If-Else` statement to check if ALL sites were selected or just a specific launch site was selected\n",
    "+ + If ALL sites are selected, we will use all rows in the dataframe `spacex_df` to render and return a pie chart graph to show the total success launches (i.e., the total count of `class` column)\n",
    "  + If a specific launch site is selected, you need to filter the dataframe `spacex_df` first in order\n",
    "to include the only data for the selected site.\\\n",
    "Then, render and return a pie chart graph to show the success (`class=1`) count and failed (`class=0`) count for the selected site.\n",
    "\n",
    "Here is an example of a callback function:"
   ]
  },
  {
   "cell_type": "code",
   "execution_count": null,
   "id": "e5e7da75-bd7f-4657-b991-a3592c7e2c75",
   "metadata": {},
   "outputs": [],
   "source": [
    "# # Function decorator to specify function input and output\n",
    "\n",
    "# @app.callback(Output(component_id='success-pie-chart', component_property='figure'),\n",
    "#               Input(component_id='site-dropdown', component_property='value'))\n",
    "# def get_pie_chart(entered_site):\n",
    "#     filtered_df = spacex_df\n",
    "#     if entered_site == 'ALL':\n",
    "#         fig = px.pie(data, values='class', \n",
    "#         names='pie chart names', \n",
    "#         title='title')\n",
    "#         return fig\n",
    "#     else:\n",
    "#         # return the outcomes piechart for a selected site"
   ]
  },
  {
   "cell_type": "markdown",
   "id": "f8172c31-0b13-46d4-a0b2-24a630704a0c",
   "metadata": {},
   "source": [
    "### **TASK 3: Add a Range Slider to Select Payload**\n",
    "Next, we want to find if variable payload is correlated to mission outcome. From a dashboard point of view, we want to be able to easily select different payload range and see if we can identify some visual patterns.\n",
    "\n",
    "Find and complete a commented `dcc.RangeSlider(id='payload-slider',...)` input with the following attribute:\n",
    "\n",
    "+ `id` to `be payload-slider`\n",
    "+ `min` indicating the slider starting point, we set its value to be 0 (Kg)\n",
    "+ `max` indicating the slider ending point to, we set its value to be 10000 (Kg)\n",
    "+ `step` indicating the slider interval on the slider, we set its value to be 1000 (Kg)\n",
    "+ `value` indicating the current selected range, we could set it to be `min_payload` and `max_payload`\n",
    "\n",
    "Here is an example of RangeSlider:"
   ]
  },
  {
   "cell_type": "code",
   "execution_count": null,
   "id": "7ddab3c2-dd3f-41b6-a633-c69865f2017b",
   "metadata": {},
   "outputs": [],
   "source": [
    "# dcc.RangeSlider(id='id',\n",
    "#                 min=0, max=10000, step=1000,\n",
    "#                 marks={0: '0',\n",
    "#                        100: '100'},\n",
    "#                 value=[min_payload, max_payload])"
   ]
  },
  {
   "cell_type": "markdown",
   "id": "6a2cf38a-d2d7-43fb-930e-a7e1cb0212c1",
   "metadata": {},
   "source": [
    "### **TASK 4: Add a callback function to render the success-payload-scatter-chart scatter plot**\n",
    "Next, we want to plot a scatter plot with the x axis to be the payload and the y axis to be the launch outcome (i.e., `class` column).\\\n",
    "As such, we can visually observe how payload may be correlated with mission outcomes for selected site(s).\n",
    "\n",
    "In addition, we want to color-label the Booster version on each scatter point so that we may\n",
    "observe mission outcomes with different boosters.\n",
    "\n",
    "Now, let’s add a call function including the following application logic:\n",
    "\n",
    "+ Input to be `[Input(component_id='site-dropdown', component_property='value')], Input(component_id=\"payload-slider\", component_property=\"value\")]`\\\n",
    "Note that we have two input components, one to receive selected launch site and another to receive selected payload range.\n",
    "+ Output to be `Output(component_id='success-payload-scatter-chart', component_property='figure')`\n",
    "+ A `If-Else` statement to check if ALL sites were selected or just a specific launch site was selected\n",
    "  + If ALL sites are selected, render a scatter plot to display all values for variable `Payload Mass (kg)` and variable `class`.\\\n",
    "In addition, the point color needs to be set to the booster version i.e., `color=\"Booster Version Category\"`\n",
    "  + If a specific launch site is selected, you need to filter the `spacex_df` first, and render a scatter chart to show values `Payload Mass (kg)` and `class` for the selected site, and color-label the point using `Boosster Version Category` likewise."
   ]
  },
  {
   "cell_type": "markdown",
   "id": "3f87b4f8-336a-4a97-93c3-6ec1f6b49e16",
   "metadata": {},
   "source": [
    "### **Finding Insights Visually**\n",
    "Now with the dashboard completed, you should be able to use it to analyze SpaceX launch data, and answer the following questions:\n",
    "1. Which site has the largest successful launches?\n",
    "2. Which site has the highest launch success rate?\n",
    "3. Which payload range(s) has the highest launch success rate?\n",
    "4. Which payload range(s) has the lowest launch success rate?\n",
    "5. Which F9 Booster version (`v1.0`, `v1.1`, `FT`, `B4`, `B5`, etc.) has the highest\n",
    "launch success rate?"
   ]
  },
  {
   "cell_type": "code",
   "execution_count": 33,
   "id": "9c738127-2b60-414e-a21b-bf8f11eee561",
   "metadata": {},
   "outputs": [
    {
     "name": "stdout",
     "output_type": "stream",
     "text": [
      "Dash app running on http://127.0.0.1:8050/\n"
     ]
    },
    {
     "data": {
      "application/javascript": [
       "window.open('http://127.0.0.1:8050/')"
      ],
      "text/plain": [
       "<IPython.core.display.Javascript object>"
      ]
     },
     "metadata": {},
     "output_type": "display_data"
    }
   ],
   "source": [
    "# %load spacex_dash_app.py\n",
    "# Import required libraries\n",
    "import pandas as pd\n",
    "import dash\n",
    "from dash import html\n",
    "from dash import dcc\n",
    "from dash.dependencies import Input, Output\n",
    "import plotly.express as px\n",
    "\n",
    "# Read the airline data into pandas dataframe\n",
    "spacex_df = pd.read_csv(\"spacex_launch_dash.csv\")\n",
    "max_payload = spacex_df['Payload Mass (kg)'].max()\n",
    "min_payload = spacex_df['Payload Mass (kg)'].min()\n",
    "\n",
    "LaunchSites = spacex_df['Launch Site'].unique()\n",
    "\n",
    "# Create a dash application\n",
    "app = dash.Dash(__name__)\n",
    "\n",
    "# Create an app layout\n",
    "app.layout = html.Div(children=[html.H1('SpaceX Launch Records Dashboard',\n",
    "                                        style={'textAlign': 'center', 'color': '#503D36',\n",
    "                                               'font-size': 40}),\n",
    "        # TASK 1: Add a dropdown list to enable Launch Site selection\n",
    "        # The default select value is for ALL sites\n",
    "                                dcc.Dropdown(id='site-dropdown', \n",
    "                                            options=[{'label': 'All Sites', 'value': 'ALL'}]+\n",
    "                                             [{'label': site, 'value': site} for site in LaunchSites],\n",
    "                                            value = 'ALL',\n",
    "                                            placeholder = 'Select a Launch Site here',\n",
    "                                            searchable = True),\n",
    "                                html.Br(),\n",
    "\n",
    "        # TASK 2: Add a pie chart to show the total successful launches count for all sites\n",
    "        # If a specific launch site was selected, show the Success vs. Failed counts for the site\n",
    "                                html.Div(dcc.Graph(id='success-pie-chart')),\n",
    "                                html.Br(),\n",
    "\n",
    "                                html.P(\"Payload range (Kg):\"),\n",
    "        # TASK 3: Add a slider to select payload range\n",
    "                                dcc.RangeSlider(id='payload-slider', min=0, max=10000, step=1000,\n",
    "                                               marks={i:str(i) for i in range(0, 10000+1, 1000)},\n",
    "                                               value=[min_payload, max_payload]),\n",
    "\n",
    "        # TASK 4: Add a scatter chart to show the correlation between payload and launch success\n",
    "                                html.Div(dcc.Graph(id='success-payload-scatter-chart')),\n",
    "                                ])\n",
    "\n",
    "# TASK 2:\n",
    "# Add a callback function for `site-dropdown` as input, `success-pie-chart` as output\n",
    "# Function decorator to specify function input and output\n",
    "@app.callback(Output(component_id='success-pie-chart', component_property='figure'),\n",
    "              Input(component_id='site-dropdown', component_property='value'))\n",
    "def get_pie_chart(entered_site):\n",
    "    filtered_df = spacex_df\n",
    "    if entered_site == 'ALL':\n",
    "        fig = px.pie(spacex_df.groupby('Launch Site').sum('class'), \n",
    "                     values='class', \n",
    "                     names=spacex_df.groupby('Launch Site').sum('class').index, \n",
    "                     title='Total Success Launches by Sites')\n",
    "        return fig\n",
    "    else:\n",
    "        # return the outcomes piechart for a selected site\n",
    "        fig = px.pie(spacex_df.groupby('Launch Site')[['class']].value_counts()[entered_site],\n",
    "            values = spacex_df.groupby('Launch Site')[['class']].value_counts()[entered_site].values,\n",
    "            names = spacex_df.groupby('Launch Site')[['class']].value_counts()[entered_site].index,\n",
    "                     title='Total Success Launches for Site '+entered_site)\n",
    "        return fig\n",
    "\n",
    "\n",
    "\n",
    "# TASK 4:\n",
    "# Add a callback function for `site-dropdown` and `payload-slider` as inputs, \n",
    "#                                  `success-payload-scatter-chart` as output\n",
    "@app.callback(Output(component_id='success-payload-scatter-chart', component_property='figure'),\n",
    "              [Input(component_id='site-dropdown', component_property='value'), \n",
    "               Input(component_id=\"payload-slider\", component_property=\"value\")])\n",
    "def get_scatter_chart(entered_site, entered_payloads):\n",
    "    filtered_df = spacex_df\n",
    "    if entered_site == 'ALL':\n",
    "        fig = px.scatter(spacex_df, x='Payload Mass (kg)', y='class', color=\"Booster Version Category\",\n",
    "                     title='Correlation between Payload and Success for all Sites')\n",
    "        fig.update_xaxes(range = entered_payloads)\n",
    "        return fig\n",
    "    else:\n",
    "        fig = px.scatter(spacex_df[spacex_df['Launch Site']==entered_site], \n",
    "                         x='Payload Mass (kg)', y='class', color=\"Booster Version Category\",\n",
    "                         title='Correlation between Payload and Success for Site '+entered_site)\n",
    "        fig.update_xaxes(range = entered_payloads)\n",
    "        return fig\n",
    "\n",
    "\n",
    "\n",
    "\n",
    "\n",
    "\n",
    "\n",
    "\n",
    "# Run the app\n",
    "if __name__ == '__main__':\n",
    "    app.run_server(jupyter_mode=\"tab\")\n"
   ]
  },
  {
   "cell_type": "markdown",
   "id": "7de855a3-f712-452e-9beb-8f93aa0fabcf",
   "metadata": {},
   "source": [
    "### **Plotly Dash Reference**\n",
    "#### **Dropdown (input) component**\n",
    "Refer [here](https://dash.plotly.com/dash-core-components/dropdown?utm_medium=Exinfluencer&utm_source=Exinfluencer&utm_content=000026UJ&utm_term=10006555&utm_id=NA-SkillsNetwork-Channel-SkillsNetworkCoursesIBMDS0321ENSkillsNetwork865-2023-01-01) \n",
    "for more details about `dcc.Dropdown()`\n",
    "\n",
    "#### **Range slider (input) component**\n",
    "Refer [here](https://dash.plotly.com/dash-core-components/rangeslider?utm_medium=Exinfluencer&utm_source=Exinfluencer&utm_content=000026UJ&utm_term=10006555&utm_id=NA-SkillsNetwork-Channel-SkillsNetworkCoursesIBMDS0321ENSkillsNetwork865-2023-01-01) \n",
    "for more details about `dcc.RangeSlider()`\n",
    "\n",
    "#### **Pie chart (output) component**\n",
    "Refer [here](https://plotly.com/python/pie-charts/?utm_medium=Exinfluencer&utm_source=Exinfluencer&utm_content=000026UJ&utm_term=10006555&utm_id=NA-SkillsNetwork-Channel-SkillsNetworkCoursesIBMDS0321ENSkillsNetwork865-2023-01-01) \n",
    "for more details about plotly pie charts\n",
    "\n",
    "#### **Scatter chart (output) component**\n",
    "Refer [here](https://plotly.com/python/line-and-scatter/?utm_medium=Exinfluencer&utm_source=Exinfluencer&utm_content=000026UJ&utm_term=10006555&utm_id=NA-SkillsNetwork-Channel-SkillsNetworkCoursesIBMDS0321ENSkillsNetwork865-2023-01-01) \n",
    "for more details about plotly scatter charts"
   ]
  },
  {
   "cell_type": "code",
   "execution_count": null,
   "id": "d2457b67-2612-466c-95a5-56459e160d16",
   "metadata": {},
   "outputs": [],
   "source": []
  }
 ],
 "metadata": {
  "kernelspec": {
   "display_name": "Python 3 (ipykernel)",
   "language": "python",
   "name": "python3"
  },
  "language_info": {
   "codemirror_mode": {
    "name": "ipython",
    "version": 3
   },
   "file_extension": ".py",
   "mimetype": "text/x-python",
   "name": "python",
   "nbconvert_exporter": "python",
   "pygments_lexer": "ipython3",
   "version": "3.12.0"
  }
 },
 "nbformat": 4,
 "nbformat_minor": 5
}
